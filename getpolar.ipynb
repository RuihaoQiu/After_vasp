{
 "cells": [
  {
   "cell_type": "markdown",
   "metadata": {},
   "source": [
    "## Get polarization from VASP\n",
    "\n",
    "<p style=\"color:gray;\"><b>Ruihao QIU -- qiuruihao@gmail.com</b></p>\n",
    "\n",
    "This script is to calculate polarization from the OUTCAR.\n",
    "Using LCALCPOL  = .TRUE. in the INCAR to calculate polarization.\n"
   ]
  },
  {
   "cell_type": "code",
   "execution_count": 7,
   "metadata": {
    "collapsed": false
   },
   "outputs": [
    {
     "name": "stdout",
     "output_type": "stream",
     "text": [
      "The ionic and electronic dipole moment: \n",
      "[-0.10893, 148.91949, 131.8214] e*Angst\n",
      "[-1.13211, 6e-05, -0.0001] e*Angst\n",
      "\n",
      "The lattice parameters and volume: \n",
      "[5.190540164, 11.455345427, 7.323411137] Angst\n",
      "435.445855753 Angst\n",
      "\n",
      "The quota of polarization: \n",
      "[ 19.072094  42.091462  26.909104] um/cm^2\n",
      "\n",
      "The total polarization: \n",
      "[-4.560071  0.000218 -0.000369] um/cm^2\n",
      "\n"
     ]
    }
   ],
   "source": [
    "## Input file -- OUTCAR\n",
    "\n",
    "#--------------------------------------------------------------------------------------------\n",
    "# Import operator numpy and matplotlib\n",
    "#--------------------------------------------------------------------------------------------\n",
    "import matplotlib.pyplot as plt\n",
    "import numpy as np\n",
    "\n",
    "# Define functions to transform myList to float/int\n",
    "#--------------------------------------------------------------------------------------------\n",
    "# Define a function myFloat transform myList to float\n",
    "#--------------------------------------------------------------------------------------------\n",
    "def myFloat(myList):\n",
    "    return map(float, myList)\n",
    "def myInt(myList):\n",
    "    return map(int, myList)\n",
    "\n",
    "#--------------------------------------------------------------------------------------------\n",
    "# Set print precision\n",
    "#--------------------------------------------------------------------------------------------\n",
    "np.set_printoptions(precision=6,suppress=True)\n",
    "\n",
    "\n",
    "#--------------------------------------------------------------------------------------------\n",
    "# Define a find_str() function\n",
    "# Notice, the string should be the only one in the whole text.\n",
    "#--------------------------------------------------------------------------------------------\n",
    "def find_str(str, arr):\n",
    "    line = 0\n",
    "    for ln in arr:\n",
    "        line = line + 1\n",
    "        if str in ln:\n",
    "            return(line-1)\n",
    "            break\n",
    "\n",
    "\n",
    "#--------------------------------------------------------------------------------------------\n",
    "# Read Ionic and electronic dipole moment -- ip and ep (unit: e*Angst)\n",
    "# Read lattice parameter and volume\n",
    "# calc quota and total polarization in unit um/cm^2\n",
    "#--------------------------------------------------------------------------------------------\n",
    "out = [line.split() for line in open (\"data/OUTCAR\", 'r')]\n",
    "lni = find_str(\"p[ion]=(\", out)\n",
    "lne = find_str(\"p[elc]=(\", out)\n",
    "ip = myFloat(out[lni][4:7])                  # ionic dipole moment\n",
    "ep = myFloat(out[lne][5:8])                  # electronic dipole moment\n",
    "\n",
    "lnl = find_str(\"VOLUME\", out)\n",
    "lp = myFloat(out[lnl+10][0:3])               # lattice parameter\n",
    "v = np.prod(np.array(lp))                    # volume\n",
    "\n",
    "quota = np.divide(lp,v)*1600                 # quota of polarization (unit: um/cm^2)\n",
    "\n",
    "tp = np.add(ip, ep)*1600/v                   # total polarization along three directions (unit: um/cm^2)\n",
    "\n",
    "# Reduce quota from polarization\n",
    "for i in range(3):\n",
    "    for n in range(100):\n",
    "        if abs(tp[i]) - quota[i] > -0.1:\n",
    "            tp[i] = tp[i] - quota[i]\n",
    "        else:\n",
    "            break\n",
    "\n",
    "# Print all\n",
    "print \"The ionic and electronic dipole moment: \\n\", ip, \"e*Angst\\n\", ep, \"e*Angst\\n\"\n",
    "print \"The lattice parameters and volume: \\n\", lp, \"Angst\\n\", v, \"Angst^3\\n\"\n",
    "print \"The quota of polarization: \\n\", quota, \"um/cm^2\\n\"\n",
    "print \"The total polarization: \\n\", tp, \"um/cm^2\\n\"\n"
   ]
  }
 ],
 "metadata": {
  "anaconda-cloud": {},
  "kernelspec": {
   "display_name": "Python 2",
   "language": "python",
   "name": "python2"
  },
  "language_info": {
   "codemirror_mode": {
    "name": "ipython",
    "version": 2
   },
   "file_extension": ".py",
   "mimetype": "text/x-python",
   "name": "python",
   "nbconvert_exporter": "python",
   "pygments_lexer": "ipython2",
   "version": "2.7.11"
  }
 },
 "nbformat": 4,
 "nbformat_minor": 0
}
