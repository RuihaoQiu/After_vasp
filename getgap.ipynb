{
 "cells": [
  {
   "cell_type": "markdown",
   "metadata": {},
   "source": [
    "## Get band gap from VASP\n",
    "\n",
    "<p style=\"color:gray;\"><b>Ruihao QIU -- qiuruihao@gmail.com</b></p>\n",
    "\n",
    "This script is to obtain the band gap from the calculated DOS and band structure. \n",
    "\n",
    "### 1. Gap from DOS"
   ]
  },
  {
   "cell_type": "code",
   "execution_count": 12,
   "metadata": {
    "collapsed": false
   },
   "outputs": [
    {
     "name": "stdout",
     "output_type": "stream",
     "text": [
      "VBM is 5.682 and CBM is 6.196\n",
      "The band gap is 0.514 eV\n"
     ]
    }
   ],
   "source": [
    "## Input file -- DOSCAR\n",
    "\n",
    "#--------------------------------------------------------------------------------------------\n",
    "# Import operator numpy and matplotlib\n",
    "#--------------------------------------------------------------------------------------------\n",
    "import numpy as np\n",
    "from numpy import array as npa\n",
    "from numpy import concatenate as npc\n",
    "\n",
    "\n",
    "#--------------------------------------------------------------------------------------------\n",
    "# Define a function myFloat transform myList to float\n",
    "#--------------------------------------------------------------------------------------------\n",
    "def myFloat(myList):\n",
    "    return map(float, myList)\n",
    "\n",
    "\n",
    "#--------------------------------------------------------------------------------------------\n",
    "# Define a find_str() function\n",
    "# Notice, the string should be the only one in the whole text.\n",
    "#--------------------------------------------------------------------------------------------\n",
    "def find_str(str, arr):\n",
    "    line = 0\n",
    "    for ln in arr:\n",
    "        line = line + 1\n",
    "        if str in ln:\n",
    "            return(line-1)\n",
    "            break\n",
    "\n",
    "\n",
    "#--------------------------------------------------------------------------------------------\n",
    "# Read the DOS\n",
    "#--------------------------------------------------------------------------------------------\n",
    "file_1 = open ('data/Si/DOSCAR', 'r')\n",
    "out = [line.split() for line in file_1]\n",
    "file_1.close()\n",
    "\n",
    "ef = float(out[5][3])\n",
    "nedos = int(out[5][2])\n",
    "tdos = npa(map(myFloat, out[6:nedos+6])).T\n",
    "\n",
    "for i in range(nedos):\n",
    "    if tdos[0][i] > ef:\n",
    "        c = i\n",
    "        v = i\n",
    "        break\n",
    "\n",
    "if tdos[1][i]>0.0001 and tdos[1][i-1]>0.0001:\n",
    "    print 'Sorry, No gap!'\n",
    "    \n",
    "else:\n",
    "    while tdos[1][c]<0.0001:\n",
    "        c = c + 1\n",
    "    c = c - 1\n",
    "    while tdos[1][v]<0.0001:\n",
    "        v = v - 1\n",
    "    v = v + 1\n",
    "    \n",
    "    print 'VBM is %s and CBM is %s' %(tdos[0][v], tdos[0][c])\n",
    "    print 'The band gap is %s eV' %(tdos[0][c]-tdos[0][v])"
   ]
  },
  {
   "cell_type": "markdown",
   "metadata": {},
   "source": [
    "### 2. Gap from band structure"
   ]
  },
  {
   "cell_type": "code",
   "execution_count": 9,
   "metadata": {
    "collapsed": false
   },
   "outputs": [
    {
     "name": "stdout",
     "output_type": "stream",
     "text": [
      "The indirect band gap is 0.60956734.\n"
     ]
    }
   ],
   "source": [
    "# Input file -- PROCAR\n",
    "\n",
    "#--------------------------------------------------------------------------------------------\n",
    "# Read the PROCAR\n",
    "#--------------------------------------------------------------------------------------------\n",
    "file_2 = open ('data/Si/PROCAR', 'r')\n",
    "band = [line.split() for line in file_2]\n",
    "file_2.close()\n",
    "\n",
    "nk = int(band[1][3])\n",
    "nb = int(band[1][7])\n",
    "\n",
    "eng = npa([float(band[j][4]) for j, ln in enumerate(band) if \"energy\" in ln])\n",
    "data = np.reshape(eng, (nk,nb)).T-ef\n",
    "\n",
    "##  Test if it is a metal\n",
    "for i in range(nb):\n",
    "    if max(data[i])>0 and min(data[i])<0:\n",
    "        print 'This is a metal!!'\n",
    "        sys.exit()\n",
    "    else:\n",
    "        continue\n",
    "\n",
    "c = []; v = []\n",
    "data = data.T\n",
    "\n",
    "for i in range(nk):\n",
    "    for j in range(nb):\n",
    "        if data[i][j] > 0:\n",
    "            c = c + [data[i][j]]\n",
    "            v = v + [data[i][j-1]]\n",
    "            break\n",
    "\n",
    "m_dir = min(np.subtract(npa(c),npa(v)))\n",
    "m_indir = min(npa(c))-max(npa(v))\n",
    "\n",
    "if m_indir < 0:\n",
    "    print \"There is no band gap!!!\"\n",
    "elif m_dir <= m_indir:\n",
    "    print \"The direct band gap is %s.\" % m_dir\n",
    "else:\n",
    "    print \"The indirect band gap is %s.\" % m_indir\n"
   ]
  }
 ],
 "metadata": {
  "kernelspec": {
   "display_name": "Python 2",
   "language": "python",
   "name": "python2"
  },
  "language_info": {
   "codemirror_mode": {
    "name": "ipython",
    "version": 2
   },
   "file_extension": ".py",
   "mimetype": "text/x-python",
   "name": "python",
   "nbconvert_exporter": "python",
   "pygments_lexer": "ipython2",
   "version": "2.7.12"
  }
 },
 "nbformat": 4,
 "nbformat_minor": 0
}
