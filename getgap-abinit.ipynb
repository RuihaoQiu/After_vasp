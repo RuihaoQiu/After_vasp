{
 "cells": [
  {
   "cell_type": "markdown",
   "metadata": {},
   "source": [
    "## Get band gap from Abinit\n",
    "\n",
    "<p style=\"color:gray;\"><b>Ruihao QIU -- qiuruihao@gmail.com</b></p>\n",
    "\n",
    "This script is to obtain the band gap from the calculated DOS. \n"
   ]
  },
  {
   "cell_type": "code",
   "execution_count": 10,
   "metadata": {
    "collapsed": false
   },
   "outputs": [
    {
     "name": "stdout",
     "output_type": "stream",
     "text": [
      "VBM is 0.175 and CBM is 0.2015\n",
      "The band gap is 0.0265 Ha, 0.7210915 eV\n"
     ]
    }
   ],
   "source": [
    "## Input file -- abinit output named *_DOS\n",
    "\n",
    "#--------------------------------------------------------------------------------------------\n",
    "# Import operator numpy and matplotlib\n",
    "#--------------------------------------------------------------------------------------------\n",
    "import numpy as np\n",
    "from numpy import array as npa\n",
    "#from numpy import concatenate as npc\n",
    "\n",
    "\n",
    "#--------------------------------------------------------------------------------------------\n",
    "# Define a function myFloat transform myList to float\n",
    "#--------------------------------------------------------------------------------------------\n",
    "def myFloat(myList):\n",
    "    return map(float, myList)\n",
    "\n",
    "\n",
    "#--------------------------------------------------------------------------------------------\n",
    "# Read the DOS\n",
    "#--------------------------------------------------------------------------------------------\n",
    "file_1 = open ('data/GdFeO3_o_TIM5_DOS', 'r')\n",
    "out = [line.split() for line in file_1]\n",
    "file_1.close()\n",
    "\n",
    "ef = float(out[7][-1])\n",
    "nedos = int(out[10][2])\n",
    "tdos = npa(map(myFloat, out[14:nedos+14])).T\n",
    "\n",
    "for i in range(nedos):\n",
    "    if tdos[0][i] > ef:\n",
    "        c = i\n",
    "        v = i\n",
    "        break\n",
    "\n",
    "if tdos[1][i]>0.0001 and tdos[1][i-1]>0.0001:\n",
    "    print 'Sorry, No gap!'\n",
    "    \n",
    "else:\n",
    "    while tdos[1][c]<0.0001:\n",
    "        c = c + 1\n",
    "    c = c - 1\n",
    "    while tdos[1][v]<0.0001:\n",
    "        v = v - 1\n",
    "    v = v + 1\n",
    "    \n",
    "    print 'VBM is %s and CBM is %s' %(tdos[0][v], tdos[0][c])\n",
    "    print 'The band gap is %s Ha, %s eV' %(tdos[0][c]-tdos[0][v], (tdos[0][c]-tdos[0][v])*27.211)"
   ]
  },
  {
   "cell_type": "code",
   "execution_count": null,
   "metadata": {
    "collapsed": true
   },
   "outputs": [],
   "source": []
  }
 ],
 "metadata": {
  "kernelspec": {
   "display_name": "Python 2",
   "language": "python",
   "name": "python2"
  },
  "language_info": {
   "codemirror_mode": {
    "name": "ipython",
    "version": 2
   },
   "file_extension": ".py",
   "mimetype": "text/x-python",
   "name": "python",
   "nbconvert_exporter": "python",
   "pygments_lexer": "ipython2",
   "version": "2.7.11"
  }
 },
 "nbformat": 4,
 "nbformat_minor": 0
}
